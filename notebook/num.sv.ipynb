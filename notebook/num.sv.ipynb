{
 "cells": [
  {
   "cell_type": "code",
   "execution_count": 1,
   "metadata": {},
   "outputs": [],
   "source": [
    "num.sv <- function(dat, mod,method=c(\"be\",\"leek\"),vfilter=NULL,B=20,seed=NULL) {  \n",
    "  if(!is.null(vfilter)){\n",
    "    if(vfilter < 100 | vfilter > dim(dat)[1]){\n",
    "      stop(paste(\"The number of genes used in the analysis must be between 100 and\",dim(dat)[1],\"\\n\"))\n",
    "    }\n",
    "    tmpv = rowVars(dat)\n",
    "    ind = which(rank(-tmpv) < vfilter)\n",
    "    dat = dat[ind,]\n",
    "  }\n",
    "  \n",
    "  method <- match.arg(method)\n",
    "  if(method==\"be\"){\n",
    "    if(!is.null(seed)){set.seed(seed)}\n",
    "    warn <- NULL\n",
    "    n <- ncol(dat)\n",
    "    m <- nrow(dat)\n",
    "    H <- mod %*% solve(t(mod) %*% mod) %*% t(mod) \n",
    "    res <- dat - t(H %*% t(dat))\n",
    "    uu <- svd(res)\n",
    "    ndf <- min(m,n) - ceiling(sum(diag(H)))\n",
    "    dstat <- uu$d[1:ndf]^2/sum(uu$d[1:ndf]^2)\n",
    "    dstat0 <- matrix(0,nrow=B,ncol=ndf)\n",
    "    \n",
    "    for(i in 1:B){\n",
    "      res0 <- t(apply(res, 1, sample, replace=FALSE))\n",
    "      res0 <- res0 - t(H %*% t(res0))\n",
    "      uu0 <- svd(res0)\n",
    "      dstat0[i,] <- uu0$d[1:ndf]^2/sum(uu0$d[1:ndf]^2)\n",
    "    }\n",
    "    psv <- rep(1,n)\n",
    "    for(i in 1:ndf){\n",
    "      psv[i] <- mean(dstat0[,i] >= dstat[i])\n",
    "    }\n",
    "    for(i in 2:ndf){\n",
    "      psv[i] <- max(psv[(i-1)],psv[i]) \n",
    "    }\n",
    "    \n",
    "    nsv <- sum(psv <= 0.10)\n",
    "    return(as.numeric(list(n.sv = nsv)))\n",
    "  }else{\n",
    "    dat <- as.matrix(dat)\n",
    "    dims <- dim(dat)\n",
    "    a <- seq(0,2,length=100)\n",
    "    n <- floor(dims[1]/10)\n",
    "    rhat <- matrix(0,nrow=100,ncol=10)\n",
    "    P <- (diag(dims[2])-mod %*% solve(t(mod) %*% mod) %*% t(mod))  \n",
    "    for(j in 1:10){\n",
    "      dats <- dat[1:(j*n),]\n",
    "      ee <- eigen(t(dats) %*% dats)\n",
    "      sigbar <- ee$values[dims[2]]/(j*n)\n",
    "      R <- dats %*% P\n",
    "      wm <- (1/(j*n))*t(R) %*% R - P*sigbar\n",
    "      ee <- eigen(wm)\n",
    "      v <- c(rep(TRUE, 100), rep(FALSE, dims[2]))\n",
    "      v <- v[order(c(a*(j*n)^(-1/3)*dims[2],ee$values), decreasing = TRUE)]\n",
    "      u <- 1:length(v)\n",
    "      w <- 1:100\n",
    "      rhat[,j] <- rev((u[v==TRUE]-w))\n",
    "    }\n",
    "    ss <- rowVars(rhat)\n",
    "    \n",
    "    bumpstart <- which.max(ss > (2*ss[1]))\n",
    "    start <- which.max(c(rep(1e5,bumpstart),ss[(bumpstart+1):100]) < 0.5*ss[1])\n",
    "    finish <- which.max(ss*c(rep(0,start),rep(1,100-start)) > ss[1])\n",
    "    if(finish==1){finish <- 100}\n",
    "    \n",
    "    n.sv <- modefunc(rhat[start:finish,10])\n",
    "    return(n.sv)\n",
    "    print(method)\n",
    "  }\n",
    "}"
   ]
  },
  {
   "cell_type": "code",
   "execution_count": 3,
   "metadata": {},
   "outputs": [
    {
     "ename": "ERROR",
     "evalue": "Error in library(bladderbatch): there is no package called ‘bladderbatch’\n",
     "output_type": "error",
     "traceback": [
      "Error in library(bladderbatch): there is no package called ‘bladderbatch’\nTraceback:\n",
      "1. library(bladderbatch)"
     ]
    }
   ],
   "source": [
    "library(bladderbatch)\n",
    "data(bladderdata)"
   ]
  },
  {
   "cell_type": "code",
   "execution_count": null,
   "metadata": {},
   "outputs": [],
   "source": []
  }
 ],
 "metadata": {
  "kernelspec": {
   "display_name": "R",
   "language": "R",
   "name": "ir"
  },
  "language_info": {
   "codemirror_mode": "r",
   "file_extension": ".r",
   "mimetype": "text/x-r-source",
   "name": "R",
   "pygments_lexer": "r",
   "version": "3.6.1"
  }
 },
 "nbformat": 4,
 "nbformat_minor": 4
}
