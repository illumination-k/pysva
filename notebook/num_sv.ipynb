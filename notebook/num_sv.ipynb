{
 "cells": [
  {
   "cell_type": "code",
   "execution_count": 1,
   "metadata": {},
   "outputs": [
    {
     "name": "stderr",
     "output_type": "stream",
     "text": [
      "/opt/conda/lib/python3.7/site-packages/anndata/_core/anndata.py:21: FutureWarning: pandas.core.index is deprecated and will be removed in a future version.  The public classes are available in the top-level namespace.\n",
      "  from pandas.core.index import RangeIndex\n"
     ]
    }
   ],
   "source": [
    "import anndata\n",
    "import numpy as np\n",
    "import pandas as pd\n",
    "import patsy"
   ]
  },
  {
   "cell_type": "code",
   "execution_count": null,
   "metadata": {},
   "outputs": [],
   "source": [
    "exppd.read_csv(\"./data/bladderExp.csv\",index_col=0)"
   ]
  },
  {
   "cell_type": "code",
   "execution_count": null,
   "metadata": {},
   "outputs": [],
   "source": [
    "def num_sv(adata, model_matrix, method='be', vfilter=None, B=20, seed=None):\n",
    "    if seed is not None:\n",
    "        try:\n",
    "            np.random.seed(seed)\n",
    "        except:\n",
    "            raise ValueError(\"seed should be integer\")\n",
    "    \n",
    "    if vfilter is not None:\n",
    "        if (vfilter < 100) or (vfilter > adata.shape[0]):\n",
    "            raise ValueError(\"The number of genes used in the analysis must be between 100 and\", str(adata.shape[0]),\"\\n\")\n",
    "        adata.obs['base_var'] = np.var(adata.X, ddof=1, axis=1)\n",
    "        ind = np.where(np.linalg.matrix_rank(adata.X) < vfilter)\n",
    "        adata = adata[adata.obs['base_var'][ind,]]\n",
    "        "
   ]
  }
 ],
 "metadata": {
  "kernelspec": {
   "display_name": "Python 3",
   "language": "python",
   "name": "python3"
  },
  "language_info": {
   "codemirror_mode": {
    "name": "ipython",
    "version": 3
   },
   "file_extension": ".py",
   "mimetype": "text/x-python",
   "name": "python",
   "nbconvert_exporter": "python",
   "pygments_lexer": "ipython3",
   "version": "3.7.6"
  }
 },
 "nbformat": 4,
 "nbformat_minor": 4
}
