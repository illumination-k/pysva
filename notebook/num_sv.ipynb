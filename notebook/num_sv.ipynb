{
 "cells": [
  {
   "cell_type": "code",
   "execution_count": 3,
   "metadata": {},
   "outputs": [
    {
     "name": "stderr",
     "output_type": "stream",
     "text": [
      "/opt/conda/lib/python3.7/site-packages/anndata/_core/anndata.py:21: FutureWarning: pandas.core.index is deprecated and will be removed in a future version.  The public classes are available in the top-level namespace.\n",
      "  from pandas.core.index import RangeIndex\n"
     ]
    }
   ],
   "source": [
    "import anndata\n",
    "import numpy as np\n",
    "import pandas as pd\n",
    "import patsy\n",
    "import random\n",
    "from scipy.stats import rankdata\n",
    "from scipy.linalg import svd"
   ]
  },
  {
   "cell_type": "code",
   "execution_count": 4,
   "metadata": {},
   "outputs": [],
   "source": [
    "pheno = pd.read_csv(\"./data/bladderPheno.csv\", index_col=0)\n",
    "adata = anndata.read_csv(\"./data/bladderExp.csv\")\n",
    "model_matrix = patsy.dmatrix('cancer', data=pheno)"
   ]
  },
  {
   "cell_type": "code",
   "execution_count": 5,
   "metadata": {},
   "outputs": [],
   "source": [
    "def calc_res(X, H):\n",
    "    return X - (H @ X.T).T\n",
    "\n",
    "def calc_dstat(res, idx):\n",
    "    u, s, v = svd(res)\n",
    "    return s[:idx]**2/np.sum(s[:idx]**2)\n",
    "\n",
    "def num_sv(adata, model_matrix, method='be', vfilter=None, B=20, seed=None):\n",
    "    if seed is not None:\n",
    "        try:\n",
    "            np.random.seed(seed)\n",
    "        except:\n",
    "            raise ValueError(\"seed should be integer\")\n",
    "    \n",
    "    if vfilter is not None:\n",
    "        if (vfilter < 100) or (vfilter > adata.shape[0]):\n",
    "            raise ValueError(\"The number of genes used in the analysis must be between 100 and\", str(adata.shape[0]),\"\\n\")\n",
    "        adata.obs['base_var'] = np.var(adata.X, ddof=1, axis=1)\n",
    "        adata = adata[rankdata(-adata.obs['base_var']) < vfilter]\n",
    "        \n",
    "    if method not in ['be', 'leek']:\n",
    "        raise ValueError('method should be \"be\" or \"leek\"')\n",
    "        \n",
    "    \n",
    "    if method == 'be':\n",
    "        H = model_matrix @ np.linalg.inv(model_matrix.T @ model_matrix) @ model_matrix.T\n",
    "        res = calc_res(adata.X, H)\n",
    "        idx = int(min(adata.shape) - np.ceil(np.sum(np.diag(H))))\n",
    "        dstat = calc_dstat(res, idx)\n",
    "        dstat0 = np.zeros((20, idx))\n",
    "        for i in range(B):\n",
    "            tmp_res = np.apply_along_axis(lambda x: random.sample(list(x), len(x)), 1, res)\n",
    "            tmp_res = calc_res(tmp_res, H)\n",
    "            dstat0[i, ] = calc_dstat(tmp_res, idx)\n",
    "            \n",
    "        psv = np.ones(adata.shape[1])\n",
    "        for i in range(idx):\n",
    "            psv[i] = np.mean(dstat0[:, i] >= dstat[i])\n",
    "            \n",
    "        for i in range(1, idx):\n",
    "            psv[i] = max(psv[i-1], psv[i])\n",
    "            \n",
    "        nsv = np.sum(psv <= 0.10)\n",
    "        return nsv"
   ]
  },
  {
   "cell_type": "code",
   "execution_count": 6,
   "metadata": {},
   "outputs": [],
   "source": [
    "nsv = num_sv(adata, model_matrix, vfilter=2000)"
   ]
  },
  {
   "cell_type": "code",
   "execution_count": 7,
   "metadata": {},
   "outputs": [
    {
     "data": {
      "text/plain": [
       "8"
      ]
     },
     "execution_count": 7,
     "metadata": {},
     "output_type": "execute_result"
    }
   ],
   "source": [
    "nsv"
   ]
  },
  {
   "cell_type": "code",
   "execution_count": 35,
   "metadata": {},
   "outputs": [],
   "source": [
    "tmp_dstat = dstat0.copy()"
   ]
  },
  {
   "cell_type": "code",
   "execution_count": 38,
   "metadata": {},
   "outputs": [],
   "source": [
    "for i in range(20):\n",
    "    tmp_res = np.apply_along_axis(lambda x: random.sample(list(x), len(x)), 1, res)\n",
    "    tmp_res = calc_res(tmp_res, H)\n",
    "    tmp_dstat[i, ] = calc_dstat(tmp_res, idx)"
   ]
  },
  {
   "cell_type": "code",
   "execution_count": 43,
   "metadata": {},
   "outputs": [
    {
     "data": {
      "text/plain": [
       "20"
      ]
     },
     "execution_count": 43,
     "metadata": {},
     "output_type": "execute_result"
    }
   ],
   "source": [
    "len(tmp_dstat[:,0])"
   ]
  },
  {
   "cell_type": "code",
   "execution_count": 17,
   "metadata": {},
   "outputs": [
    {
     "data": {
      "text/plain": [
       "array([-1.52588837, -1.18330758, -0.96021931, -0.87189261, -0.85076993,\n",
       "       -0.73378634, -0.65914147, -0.62621379, -0.62368577, -0.61848538,\n",
       "       -0.58259559, -0.5785207 , -0.36448924, -0.32489007, -0.31861107,\n",
       "       -0.31009476, -0.25602786, -0.25379634, -0.23392289, -0.2288119 ,\n",
       "       -0.1787719 , -0.17114607, -0.15600102, -0.14352124, -0.1434068 ,\n",
       "       -0.11326098, -0.03575413, -0.0349292 ,  0.04774673,  0.10745056,\n",
       "        0.18474491,  0.21121891,  0.22181041,  0.23358377,  0.23740871,\n",
       "        0.2474776 ,  0.24936588,  0.27281125,  0.34551628,  0.34579952,\n",
       "        0.37355812,  0.38398273,  0.39097316,  0.45512683,  0.47091205,\n",
       "        0.54661186,  0.55822189,  0.5989886 ,  0.63609989,  0.64489873,\n",
       "        0.6613028 ,  0.68040855,  0.69275577,  0.74107393,  0.75333905,\n",
       "        0.89374263,  0.89501119])"
      ]
     },
     "execution_count": 17,
     "metadata": {},
     "output_type": "execute_result"
    }
   ],
   "source": [
    "nsv[0]"
   ]
  },
  {
   "cell_type": "code",
   "execution_count": 129,
   "metadata": {},
   "outputs": [
    {
     "data": {
      "text/plain": [
       "array([[ 0.75333905, -0.73378634, -0.58259559, ...,  0.23358377,\n",
       "         0.27281125, -0.2288119 ],\n",
       "       [ 0.14462644, -0.136944  , -0.08742589, ...,  0.0067304 ,\n",
       "        -0.02547614,  0.01901229],\n",
       "       [ 0.01899678,  0.33459717,  0.13686424, ..., -0.33102836,\n",
       "        -0.13553561,  0.17181264],\n",
       "       ...,\n",
       "       [-0.12130988,  0.03667486,  0.05075681, ..., -0.08360836,\n",
       "        -0.00330755,  0.02341512],\n",
       "       [-0.14431509,  0.12811866,  0.1036934 , ..., -0.01161385,\n",
       "        -0.04846358,  0.21685457],\n",
       "       [-0.13430241,  0.1011605 , -0.08471683, ..., -0.07547728,\n",
       "        -0.0867788 ,  0.09468802]])"
      ]
     },
     "execution_count": 129,
     "metadata": {},
     "output_type": "execute_result"
    }
   ],
   "source": [
    "get_res(adata, H)"
   ]
  },
  {
   "cell_type": "code",
   "execution_count": 77,
   "metadata": {},
   "outputs": [],
   "source": [
    "res = adata.X - (H @ adata.X.T).T"
   ]
  },
  {
   "cell_type": "code",
   "execution_count": 78,
   "metadata": {},
   "outputs": [
    {
     "data": {
      "text/plain": [
       "array([[ 0.75333905, -0.73378634, -0.58259559, ...,  0.23358377,\n",
       "         0.27281125, -0.2288119 ],\n",
       "       [ 0.14462644, -0.136944  , -0.08742589, ...,  0.0067304 ,\n",
       "        -0.02547614,  0.01901229],\n",
       "       [ 0.01899678,  0.33459717,  0.13686424, ..., -0.33102836,\n",
       "        -0.13553561,  0.17181264],\n",
       "       ...,\n",
       "       [-0.12130988,  0.03667486,  0.05075681, ..., -0.08360836,\n",
       "        -0.00330755,  0.02341512],\n",
       "       [-0.14431509,  0.12811866,  0.1036934 , ..., -0.01161385,\n",
       "        -0.04846358,  0.21685457],\n",
       "       [-0.13430241,  0.1011605 , -0.08471683, ..., -0.07547728,\n",
       "        -0.0867788 ,  0.09468802]])"
      ]
     },
     "execution_count": 78,
     "metadata": {},
     "output_type": "execute_result"
    }
   ],
   "source": [
    "res"
   ]
  },
  {
   "cell_type": "code",
   "execution_count": 60,
   "metadata": {},
   "outputs": [],
   "source": [
    "res = adata.X - (H @ adata.X.T).T"
   ]
  },
  {
   "cell_type": "code",
   "execution_count": 61,
   "metadata": {},
   "outputs": [
    {
     "data": {
      "text/plain": [
       "array([[ 0.75333905, -0.73378634, -0.58259559, ...,  0.23358377,\n",
       "         0.27281125, -0.2288119 ],\n",
       "       [ 0.14462644, -0.136944  , -0.08742589, ...,  0.0067304 ,\n",
       "        -0.02547614,  0.01901229],\n",
       "       [ 0.01899678,  0.33459717,  0.13686424, ..., -0.33102836,\n",
       "        -0.13553561,  0.17181264],\n",
       "       ...,\n",
       "       [-0.12130988,  0.03667486,  0.05075681, ..., -0.08360836,\n",
       "        -0.00330755,  0.02341512],\n",
       "       [-0.14431509,  0.12811866,  0.1036934 , ..., -0.01161385,\n",
       "        -0.04846358,  0.21685457],\n",
       "       [-0.13430241,  0.1011605 , -0.08471683, ..., -0.07547728,\n",
       "        -0.0867788 ,  0.09468802]])"
      ]
     },
     "execution_count": 61,
     "metadata": {},
     "output_type": "execute_result"
    }
   ],
   "source": [
    "res"
   ]
  },
  {
   "cell_type": "code",
   "execution_count": 29,
   "metadata": {},
   "outputs": [],
   "source": [
    "U, s, V = svd(res)"
   ]
  },
  {
   "cell_type": "code",
   "execution_count": 34,
   "metadata": {},
   "outputs": [
    {
     "data": {
      "text/plain": [
       "ArrayView([[-0.19248867, -0.24244738, -0.14333725, ..., -0.15144947,\n",
       "             0.46047041, -0.22618654],\n",
       "           [ 0.51133645, -0.45525539,  0.04840577, ...,  1.00150273,\n",
       "            -0.54247024, -0.60379055],\n",
       "           [ 0.92283618, -0.93512642, -0.56364453, ...,  0.48257224,\n",
       "            -0.3997434 , -1.96657499],\n",
       "           ...,\n",
       "           [ 0.66303396,  1.4061408 , -1.00597477, ...,  0.0276964 ,\n",
       "            -0.83719752,  0.40430811],\n",
       "           [ 0.01596892,  1.00199997, -0.47375429, ...,  0.17953142,\n",
       "            -0.94904868, -0.0979983 ],\n",
       "           [ 0.00665659,  0.58328766,  0.05175489, ..., -0.39224699,\n",
       "            -0.1520212 ,  0.2653291 ]])"
      ]
     },
     "execution_count": 34,
     "metadata": {},
     "output_type": "execute_result"
    }
   ],
   "source": [
    "res"
   ]
  },
  {
   "cell_type": "code",
   "execution_count": 6,
   "metadata": {},
   "outputs": [],
   "source": [
    "vfilter = 2000"
   ]
  },
  {
   "cell_type": "code",
   "execution_count": 7,
   "metadata": {},
   "outputs": [],
   "source": [
    "adata.obs['base_var'] = np.var(adata.X, ddof=1, axis=1)"
   ]
  },
  {
   "cell_type": "code",
   "execution_count": 8,
   "metadata": {},
   "outputs": [
    {
     "data": {
      "text/plain": [
       "array([False, False, False, ..., False, False, False])"
      ]
     },
     "execution_count": 8,
     "metadata": {},
     "output_type": "execute_result"
    }
   ],
   "source": [
    "rankdata(-adata.obs['base_var']) < vfilter"
   ]
  },
  {
   "cell_type": "code",
   "execution_count": 9,
   "metadata": {},
   "outputs": [],
   "source": [
    "model_matrix = patsy.dmatrix('cancer', data=pheno)"
   ]
  },
  {
   "cell_type": "code",
   "execution_count": 10,
   "metadata": {},
   "outputs": [],
   "source": [
    "H = np.dot(np.dot(model_matrix, np.linalg.inv(np.dot(model_matrix.T, model_matrix))), model_matrix.T)"
   ]
  },
  {
   "cell_type": "code",
   "execution_count": 11,
   "metadata": {},
   "outputs": [],
   "source": [
    "H = model_matrix @ np.linalg.inv(model_matrix.T @ model_matrix) @ model_matrix.T"
   ]
  },
  {
   "cell_type": "code",
   "execution_count": 12,
   "metadata": {},
   "outputs": [],
   "source": [
    "res = exp - (H @ exp.T).T"
   ]
  },
  {
   "cell_type": "code",
   "execution_count": 13,
   "metadata": {},
   "outputs": [],
   "source": [
    "res = adata.X - (H @ adata.X.T).T"
   ]
  },
  {
   "cell_type": "code",
   "execution_count": 14,
   "metadata": {},
   "outputs": [],
   "source": [
    "U, s, V = svd(res)"
   ]
  },
  {
   "cell_type": "code",
   "execution_count": 15,
   "metadata": {},
   "outputs": [],
   "source": [
    "ndf = int(min(adata.shape) - np.ceil(np.sum(np.diag(H))))"
   ]
  },
  {
   "cell_type": "code",
   "execution_count": 37,
   "metadata": {},
   "outputs": [],
   "source": [
    "dstat = s[0:ndf]**2/(np.sum(s[0:ndf]**2))"
   ]
  },
  {
   "cell_type": "code",
   "execution_count": 17,
   "metadata": {},
   "outputs": [],
   "source": [
    "dstat0 = np.zeros((20, ndf))"
   ]
  },
  {
   "cell_type": "code",
   "execution_count": 18,
   "metadata": {},
   "outputs": [
    {
     "data": {
      "text/plain": [
       "(57, 22283)"
      ]
     },
     "execution_count": 18,
     "metadata": {},
     "output_type": "execute_result"
    }
   ],
   "source": [
    "np.apply_along_axis(lambda x: np.random.choice(x, len(x)), 0, res).T.shape"
   ]
  },
  {
   "cell_type": "code",
   "execution_count": 19,
   "metadata": {},
   "outputs": [],
   "source": [
    "B = 20"
   ]
  },
  {
   "cell_type": "code",
   "execution_count": 63,
   "metadata": {},
   "outputs": [
    {
     "ename": "KeyboardInterrupt",
     "evalue": "",
     "output_type": "error",
     "traceback": [
      "\u001b[0;31m---------------------------------------------------------------------------\u001b[0m",
      "\u001b[0;31mKeyboardInterrupt\u001b[0m                         Traceback (most recent call last)",
      "\u001b[0;32m<ipython-input-63-e4708a406457>\u001b[0m in \u001b[0;36m<module>\u001b[0;34m\u001b[0m\n\u001b[1;32m      2\u001b[0m     \u001b[0mtmp_res\u001b[0m \u001b[0;34m=\u001b[0m \u001b[0mnp\u001b[0m\u001b[0;34m.\u001b[0m\u001b[0mapply_along_axis\u001b[0m\u001b[0;34m(\u001b[0m\u001b[0;32mlambda\u001b[0m \u001b[0mx\u001b[0m\u001b[0;34m:\u001b[0m \u001b[0mnp\u001b[0m\u001b[0;34m.\u001b[0m\u001b[0mrandom\u001b[0m\u001b[0;34m.\u001b[0m\u001b[0mchoice\u001b[0m\u001b[0;34m(\u001b[0m\u001b[0mx\u001b[0m\u001b[0;34m,\u001b[0m \u001b[0mlen\u001b[0m\u001b[0;34m(\u001b[0m\u001b[0mx\u001b[0m\u001b[0;34m)\u001b[0m\u001b[0;34m)\u001b[0m\u001b[0;34m,\u001b[0m \u001b[0;36m0\u001b[0m\u001b[0;34m,\u001b[0m \u001b[0mres\u001b[0m\u001b[0;34m)\u001b[0m\u001b[0;34m\u001b[0m\u001b[0;34m\u001b[0m\u001b[0m\n\u001b[1;32m      3\u001b[0m     \u001b[0mtmp_res\u001b[0m \u001b[0;34m=\u001b[0m \u001b[0mtmp_res\u001b[0m \u001b[0;34m-\u001b[0m \u001b[0;34m(\u001b[0m\u001b[0mH\u001b[0m \u001b[0;34m@\u001b[0m \u001b[0mtmp_res\u001b[0m\u001b[0;34m.\u001b[0m\u001b[0mT\u001b[0m\u001b[0;34m)\u001b[0m\u001b[0;34m.\u001b[0m\u001b[0mT\u001b[0m\u001b[0;34m\u001b[0m\u001b[0;34m\u001b[0m\u001b[0m\n\u001b[0;32m----> 4\u001b[0;31m     \u001b[0mtmp_u\u001b[0m\u001b[0;34m,\u001b[0m \u001b[0mtmp_s\u001b[0m\u001b[0;34m,\u001b[0m \u001b[0mtmp_v\u001b[0m \u001b[0;34m=\u001b[0m \u001b[0msvd\u001b[0m\u001b[0;34m(\u001b[0m\u001b[0mtmp_res\u001b[0m\u001b[0;34m)\u001b[0m\u001b[0;34m\u001b[0m\u001b[0;34m\u001b[0m\u001b[0m\n\u001b[0m\u001b[1;32m      5\u001b[0m     \u001b[0mdstat0\u001b[0m\u001b[0;34m[\u001b[0m\u001b[0mi\u001b[0m\u001b[0;34m,\u001b[0m \u001b[0;34m]\u001b[0m \u001b[0;34m=\u001b[0m \u001b[0mtmp_s\u001b[0m\u001b[0;34m[\u001b[0m\u001b[0;34m:\u001b[0m\u001b[0mndf\u001b[0m\u001b[0;34m]\u001b[0m\u001b[0;34m**\u001b[0m\u001b[0;36m2\u001b[0m\u001b[0;34m/\u001b[0m\u001b[0mnp\u001b[0m\u001b[0;34m.\u001b[0m\u001b[0msum\u001b[0m\u001b[0;34m(\u001b[0m\u001b[0mtmp_s\u001b[0m\u001b[0;34m[\u001b[0m\u001b[0;34m:\u001b[0m\u001b[0mndf\u001b[0m\u001b[0;34m]\u001b[0m\u001b[0;34m**\u001b[0m\u001b[0;36m2\u001b[0m\u001b[0;34m)\u001b[0m\u001b[0;34m\u001b[0m\u001b[0;34m\u001b[0m\u001b[0m\n",
      "\u001b[0;32m/opt/conda/lib/python3.7/site-packages/scipy/linalg/decomp_svd.py\u001b[0m in \u001b[0;36msvd\u001b[0;34m(a, full_matrices, compute_uv, overwrite_a, check_finite, lapack_driver)\u001b[0m\n\u001b[1;32m    127\u001b[0m     \u001b[0;31m# perform decomposition\u001b[0m\u001b[0;34m\u001b[0m\u001b[0;34m\u001b[0m\u001b[0;34m\u001b[0m\u001b[0m\n\u001b[1;32m    128\u001b[0m     u, s, v, info = gesXd(a1, compute_uv=compute_uv, lwork=lwork,\n\u001b[0;32m--> 129\u001b[0;31m                           full_matrices=full_matrices, overwrite_a=overwrite_a)\n\u001b[0m\u001b[1;32m    130\u001b[0m \u001b[0;34m\u001b[0m\u001b[0m\n\u001b[1;32m    131\u001b[0m     \u001b[0;32mif\u001b[0m \u001b[0minfo\u001b[0m \u001b[0;34m>\u001b[0m \u001b[0;36m0\u001b[0m\u001b[0;34m:\u001b[0m\u001b[0;34m\u001b[0m\u001b[0;34m\u001b[0m\u001b[0m\n",
      "\u001b[0;31mKeyboardInterrupt\u001b[0m: "
     ]
    }
   ],
   "source": [
    "for i in range(20):\n",
    "    tmp_res = np.apply_along_axis(lambda x: np.random.choice(x, len(x)), 0, res)\n",
    "    tmp_res = tmp_res - (H @ tmp_res.T).T\n",
    "    tmp_u, tmp_s, tmp_v = svd(tmp_res)\n",
    "    dstat0[i, ] = tmp_s[:ndf]**2/np.sum(tmp_s[:ndf]**2)"
   ]
  },
  {
   "cell_type": "code",
   "execution_count": 145,
   "metadata": {},
   "outputs": [],
   "source": [
    "tmp_res = np.apply_along_axis(lambda x: np.random.choice(x, len(x)), 0, res).T"
   ]
  },
  {
   "cell_type": "code",
   "execution_count": 148,
   "metadata": {},
   "outputs": [
    {
     "data": {
      "text/plain": [
       "array([[ 0.17559573, -0.20564208, -0.11653037, ...,  0.23290481,\n",
       "         0.15061016,  0.01089744],\n",
       "       [ 0.17559573, -0.20564208, -0.11653037, ...,  0.23290481,\n",
       "         0.15061016,  0.01089744],\n",
       "       [ 0.17559573, -0.20564208, -0.11653037, ...,  0.23290481,\n",
       "         0.15061016,  0.01089744],\n",
       "       ...,\n",
       "       [ 0.17038651,  0.15664643,  0.20443351, ...,  0.04624177,\n",
       "        -0.15531808,  0.21290659],\n",
       "       [ 0.17038651,  0.15664643,  0.20443351, ...,  0.04624177,\n",
       "        -0.15531808,  0.21290659],\n",
       "       [ 0.17038651,  0.15664643,  0.20443351, ...,  0.04624177,\n",
       "        -0.15531808,  0.21290659]])"
      ]
     },
     "execution_count": 148,
     "metadata": {},
     "output_type": "execute_result"
    }
   ],
   "source": [
    "H @ tmp_res"
   ]
  },
  {
   "cell_type": "code",
   "execution_count": 25,
   "metadata": {},
   "outputs": [
    {
     "data": {
      "text/plain": [
       "(20, 54)"
      ]
     },
     "execution_count": 25,
     "metadata": {},
     "output_type": "execute_result"
    }
   ],
   "source": [
    "dstat0.shape"
   ]
  },
  {
   "cell_type": "code",
   "execution_count": 31,
   "metadata": {},
   "outputs": [],
   "source": [
    "psv = np.ones(adata.shape[1])"
   ]
  },
  {
   "cell_type": "code",
   "execution_count": 40,
   "metadata": {},
   "outputs": [],
   "source": [
    "for i in range(ndf):\n",
    "    psv[i] = np.mean(dstat0[1] >= dstat[1])"
   ]
  },
  {
   "cell_type": "code",
   "execution_count": 41,
   "metadata": {},
   "outputs": [
    {
     "data": {
      "text/plain": [
       "array([0., 0., 0., 0., 0., 0., 0., 0., 0., 0., 0., 0., 0., 0., 0., 0., 0.,\n",
       "       0., 0., 0., 0., 0., 0., 0., 0., 0., 0., 0., 0., 0., 0., 0., 0., 0.,\n",
       "       0., 0., 0., 0., 0., 0., 0., 0., 0., 0., 0., 0., 0., 0., 0., 0., 0.,\n",
       "       0., 0., 0., 1., 1., 1.])"
      ]
     },
     "execution_count": 41,
     "metadata": {},
     "output_type": "execute_result"
    }
   ],
   "source": [
    "psv"
   ]
  },
  {
   "cell_type": "code",
   "execution_count": 42,
   "metadata": {},
   "outputs": [],
   "source": [
    "for i in range(1, ndf):\n",
    "    psv[i] = max(psv[i-1], psv[i])"
   ]
  },
  {
   "cell_type": "code",
   "execution_count": 43,
   "metadata": {},
   "outputs": [
    {
     "data": {
      "text/plain": [
       "array([0., 0., 0., 0., 0., 0., 0., 0., 0., 0., 0., 0., 0., 0., 0., 0., 0.,\n",
       "       0., 0., 0., 0., 0., 0., 0., 0., 0., 0., 0., 0., 0., 0., 0., 0., 0.,\n",
       "       0., 0., 0., 0., 0., 0., 0., 0., 0., 0., 0., 0., 0., 0., 0., 0., 0.,\n",
       "       0., 0., 0., 1., 1., 1.])"
      ]
     },
     "execution_count": 43,
     "metadata": {},
     "output_type": "execute_result"
    }
   ],
   "source": [
    "psv"
   ]
  },
  {
   "cell_type": "code",
   "execution_count": 46,
   "metadata": {},
   "outputs": [],
   "source": [
    "nsv = np.sum(psv <= 0.10)"
   ]
  },
  {
   "cell_type": "code",
   "execution_count": 47,
   "metadata": {},
   "outputs": [
    {
     "data": {
      "text/plain": [
       "54"
      ]
     },
     "execution_count": 47,
     "metadata": {},
     "output_type": "execute_result"
    }
   ],
   "source": [
    "nsv"
   ]
  },
  {
   "cell_type": "code",
   "execution_count": 56,
   "metadata": {},
   "outputs": [
    {
     "data": {
      "text/plain": [
       "array([0.03626053, 0.03310931, 0.0320006 , 0.03182664, 0.03118746,\n",
       "       0.02922345, 0.02896368, 0.02754427, 0.02701594, 0.02583733,\n",
       "       0.02498315, 0.02463308, 0.02445544, 0.02343785, 0.02298894,\n",
       "       0.02223634, 0.0216695 , 0.02124326, 0.02077855, 0.02049972,\n",
       "       0.02027807, 0.02002122, 0.01904444, 0.01884891, 0.01869137,\n",
       "       0.01863098, 0.01774699, 0.01745962, 0.0174366 , 0.01671175,\n",
       "       0.01612549, 0.01567593, 0.01550268, 0.01488633, 0.01482996,\n",
       "       0.01376904, 0.01309854, 0.01288056, 0.01284336, 0.01268508,\n",
       "       0.01257718, 0.0123005 , 0.01228625, 0.01195046, 0.01102823,\n",
       "       0.01095455, 0.01057984, 0.01031806, 0.01027596, 0.00976455,\n",
       "       0.00925173, 0.00813488, 0.00682093, 0.00669488])"
      ]
     },
     "execution_count": 56,
     "metadata": {},
     "output_type": "execute_result"
    }
   ],
   "source": [
    "dstat0[7,]"
   ]
  },
  {
   "cell_type": "code",
   "execution_count": 53,
   "metadata": {},
   "outputs": [
    {
     "data": {
      "text/plain": [
       "0.024160863787624033"
      ]
     },
     "execution_count": 53,
     "metadata": {},
     "output_type": "execute_result"
    }
   ],
   "source": [
    "dstat[7]"
   ]
  },
  {
   "cell_type": "code",
   "execution_count": 65,
   "metadata": {},
   "outputs": [],
   "source": [
    "tmp_res = np.apply_along_axis(lambda x: np.random.choice(x, len(x)), 1, res)"
   ]
  },
  {
   "cell_type": "code",
   "execution_count": 66,
   "metadata": {},
   "outputs": [
    {
     "data": {
      "text/plain": [
       "array([[-0.31009476,  0.37355812, -0.65914147, ..., -0.85076993,\n",
       "        -0.0349292 ,  0.10745056],\n",
       "       [-0.06225154,  0.07452347, -0.49606798, ...,  0.05857899,\n",
       "        -0.14743803, -0.09119604],\n",
       "       [-0.61116346,  0.28203784,  0.60916106, ...,  0.13043991,\n",
       "        -0.09409031, -0.12471994],\n",
       "       ...,\n",
       "       [ 0.05636992, -0.08360836, -0.05590997, ..., -0.06188045,\n",
       "         0.09795513, -0.12934933],\n",
       "       [ 0.0128746 , -0.00428471,  0.12811866, ...,  0.02152323,\n",
       "         0.22249317, -0.13585424],\n",
       "       [-0.12598531, -0.12598531, -0.09418265, ..., -0.10237853,\n",
       "        -0.09854047, -0.10237853]])"
      ]
     },
     "execution_count": 66,
     "metadata": {},
     "output_type": "execute_result"
    }
   ],
   "source": [
    "tmp_res"
   ]
  },
  {
   "cell_type": "code",
   "execution_count": 67,
   "metadata": {},
   "outputs": [
    {
     "data": {
      "text/plain": [
       "(22283, 57)"
      ]
     },
     "execution_count": 67,
     "metadata": {},
     "output_type": "execute_result"
    }
   ],
   "source": [
    "tmp_res.shape"
   ]
  },
  {
   "cell_type": "code",
   "execution_count": 5,
   "metadata": {},
   "outputs": [],
   "source": [
    "x = np.random.randn(20, 5)"
   ]
  },
  {
   "cell_type": "code",
   "execution_count": 6,
   "metadata": {},
   "outputs": [
    {
     "data": {
      "text/plain": [
       "array([[ 1.73673761,  1.89791391, -2.10677342, -0.14891209,  0.58306155],\n",
       "       [-2.25923303,  0.13723954, -0.70121322, -0.62078008, -0.47961976],\n",
       "       [ 1.20973877, -1.07518386,  0.80691921, -0.29078347, -0.22094764],\n",
       "       [-0.16915604,  1.10083444,  0.08251052, -0.00437558, -1.72255825],\n",
       "       [ 1.05755642, -2.51791281, -1.91064012,  1.30645535,  0.42439764],\n",
       "       [-0.46916808, -1.00607253, -0.92192304,  0.62640453,  0.3571767 ],\n",
       "       [-0.01871855,  0.22117127,  0.69860411,  0.83451002, -1.66563784],\n",
       "       [-2.90143984, -0.04863853, -0.04537833,  1.47533391, -0.51369344],\n",
       "       [-0.66844251, -1.03332741,  2.5052391 ,  0.10662364,  0.36308511],\n",
       "       [ 1.11232645, -0.59172085,  1.5448004 ,  2.47639208, -2.87470857],\n",
       "       [ 2.3960241 ,  0.13124583,  0.30439887,  1.17660585,  0.12989416],\n",
       "       [ 0.21369857,  0.09996282, -0.04785691,  0.37494644,  0.40462887],\n",
       "       [ 0.33815844,  0.19862082, -1.39696286, -0.74150159,  1.16431059],\n",
       "       [-0.91628325, -0.2530479 ,  1.69172841, -0.76961807,  0.78671555],\n",
       "       [ 0.15520977,  0.87568671,  2.60165615,  0.6488518 ,  0.34667744],\n",
       "       [-0.48201208, -1.7380585 ,  1.06003454,  2.78081332, -0.46839194],\n",
       "       [ 0.55422761,  0.71030481, -0.37064289,  2.42957998, -0.64599694],\n",
       "       [ 1.42727308, -0.02026225,  0.38163088,  0.05727664, -1.31001656],\n",
       "       [ 0.34152914,  0.48710222, -0.28285822, -0.01321515, -0.49457539],\n",
       "       [-0.92948056,  0.607608  , -0.35381299, -1.4398529 ,  0.85955877]])"
      ]
     },
     "execution_count": 6,
     "metadata": {},
     "output_type": "execute_result"
    }
   ],
   "source": [
    "x"
   ]
  },
  {
   "cell_type": "code",
   "execution_count": 7,
   "metadata": {},
   "outputs": [
    {
     "data": {
      "text/plain": [
       "array([[ 1.89791391, -0.14891209, -2.10677342,  1.73673761,  0.58306155],\n",
       "       [-0.47961976,  0.13723954, -0.70121322, -0.62078008, -2.25923303],\n",
       "       [ 0.80691921, -0.22094764, -1.07518386,  1.20973877, -0.29078347],\n",
       "       [-0.16915604, -1.72255825,  1.10083444,  0.08251052, -0.00437558],\n",
       "       [-2.51791281,  1.30645535, -1.91064012,  1.05755642,  0.42439764],\n",
       "       [-0.46916808,  0.62640453,  0.3571767 , -0.92192304, -1.00607253],\n",
       "       [ 0.22117127,  0.83451002,  0.69860411, -0.01871855, -1.66563784],\n",
       "       [-0.04537833, -0.04863853, -0.51369344,  1.47533391, -2.90143984],\n",
       "       [ 0.10662364, -0.66844251,  0.36308511,  2.5052391 , -1.03332741],\n",
       "       [ 2.47639208,  1.5448004 , -2.87470857,  1.11232645, -0.59172085],\n",
       "       [ 0.12989416,  0.13124583,  1.17660585,  2.3960241 ,  0.30439887],\n",
       "       [ 0.37494644,  0.40462887,  0.21369857, -0.04785691,  0.09996282],\n",
       "       [-1.39696286,  0.33815844,  0.19862082,  1.16431059, -0.74150159],\n",
       "       [-0.91628325,  1.69172841, -0.2530479 , -0.76961807,  0.78671555],\n",
       "       [ 0.6488518 ,  0.87568671,  2.60165615,  0.15520977,  0.34667744],\n",
       "       [ 2.78081332, -0.48201208, -1.7380585 ,  1.06003454, -0.46839194],\n",
       "       [-0.37064289,  0.55422761, -0.64599694,  0.71030481,  2.42957998],\n",
       "       [ 0.05727664,  1.42727308, -0.02026225, -1.31001656,  0.38163088],\n",
       "       [ 0.34152914, -0.49457539, -0.28285822,  0.48710222, -0.01321515],\n",
       "       [-0.35381299,  0.85955877, -1.4398529 , -0.92948056,  0.607608  ]])"
      ]
     },
     "execution_count": 7,
     "metadata": {},
     "output_type": "execute_result"
    }
   ],
   "source": [
    "import random\n",
    "np.apply_along_axis(lambda x: random.sample(list(x), len(x)), 1, x)"
   ]
  },
  {
   "cell_type": "code",
   "execution_count": 23,
   "metadata": {},
   "outputs": [
    {
     "ename": "TypeError",
     "evalue": "sample() missing 1 required positional argument: 'k'",
     "output_type": "error",
     "traceback": [
      "\u001b[0;31m---------------------------------------------------------------------------\u001b[0m",
      "\u001b[0;31mTypeError\u001b[0m                                 Traceback (most recent call last)",
      "\u001b[0;32m<ipython-input-23-9a345ee8b6db>\u001b[0m in \u001b[0;36m<module>\u001b[0;34m\u001b[0m\n\u001b[0;32m----> 1\u001b[0;31m \u001b[0mrandom\u001b[0m\u001b[0;34m.\u001b[0m\u001b[0msample\u001b[0m\u001b[0;34m(\u001b[0m\u001b[0mlist\u001b[0m\u001b[0;34m(\u001b[0m\u001b[0mrange\u001b[0m\u001b[0;34m(\u001b[0m\u001b[0;36m10\u001b[0m\u001b[0;34m)\u001b[0m\u001b[0;34m)\u001b[0m\u001b[0;34m)\u001b[0m\u001b[0;34m\u001b[0m\u001b[0;34m\u001b[0m\u001b[0m\n\u001b[0m",
      "\u001b[0;31mTypeError\u001b[0m: sample() missing 1 required positional argument: 'k'"
     ]
    }
   ],
   "source": [
    "random.sample(list(range(10)))"
   ]
  },
  {
   "cell_type": "code",
   "execution_count": null,
   "metadata": {},
   "outputs": [],
   "source": []
  }
 ],
 "metadata": {
  "kernelspec": {
   "display_name": "Python 3",
   "language": "python",
   "name": "python3"
  },
  "language_info": {
   "codemirror_mode": {
    "name": "ipython",
    "version": 3
   },
   "file_extension": ".py",
   "mimetype": "text/x-python",
   "name": "python",
   "nbconvert_exporter": "python",
   "pygments_lexer": "ipython3",
   "version": "3.7.6"
  }
 },
 "nbformat": 4,
 "nbformat_minor": 4
}
